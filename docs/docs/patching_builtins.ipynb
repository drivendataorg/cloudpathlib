{
 "cells": [
  {
   "cell_type": "markdown",
   "metadata": {},
   "source": [
    "# Compatibility"
   ]
  },
  {
   "cell_type": "markdown",
   "metadata": {},
   "source": [
    "<div class=\"admonition warning\">\n",
    "<p class=\"admonition-title\">Experimental</p>\n",
    "<p>Patching <code>open</code>, <code>os</code>, <code>os.path</code>, and <code>glob</code> to work with <code>CloudPath</code> objects is experimental. It is off by default, and it may change or be removed in the future.</p>\n",
    "</div>"
   ]
  },
  {
   "cell_type": "markdown",
   "metadata": {},
   "source": [
    "## Patching Python builtins (third-party library compatibility)\n",
    "\n",
    "Not every Python library in the broad universe of Python libraries is implemented to accept pathlib-compatible objects like those implemented by cloudpathlib. Many libraries will only accept strings as filepaths. These libraries internally use `open`, functions from `os` and `os.path`, or other core library modules like `glob` to navigate paths and manipulate them.\n",
    "\n",
    "This means that out-of-the-box you can't just pass a `CloudPath` object to any library. For those implemented with `pathlib`, this will work. For anything else the code will throw an exception at some point.\n",
    "\n",
    "The long-term solution is to ask developers to implement their library to support either (1) pathlib-compatible objects for files and directories, or (2) file-like objects passed directly (e.g., so you could call `CloudPath.open` in your code and pass the the file-like object to the library).\n",
    "\n",
    "The near-term workaround that will be compatible with some libraries is to patch the builtins to make `open`, `os`, `os.path`, and `glob` work with `CloudPath` objects. Because this overrides default Python functionality, this is not on by default. When patched, these functions will use the `CloudPath` version if they are passed a `CloudPath` and will fallback to their normal implementations otherwise.\n",
    "\n",
    "There are three ways to enable these patches: environment variables, globally with a function call, or just in a specific context with a context manager.\n",
    "\n",
    "## Differences in reading versus writing to `CloudPath`\n",
    "\n",
    "A major reason to patch these builtins is if you want to write to a `CloudPath` with a third party library. For scenarios where you are reading files, you may not need to do any patching. Many python libraries support using [`__fspath__`](https://docs.python.org/3/library/os.html#os.PathLike.__fspath__) to get the location of a file on disk.\n",
    "\n",
    "We implement `CloudPath.__fspath__`, which will cache the file to the local disk and provide that file path as a string to any library that uses `fspath`. This works well for reading files, but not for writing them. Because there is no callback to our code once that filepath gets written to, we can't see changes and then push those changes from the cache back to the cloud (see related discussions in [#73](https://github.com/drivendataorg/cloudpathlib/issues/73), [#128](https://github.com/drivendataorg/cloudpathlib/issues/128), [#140](https://github.com/drivendataorg/cloudpathlib/pull/140)). In many scenarios our code will never get called again.\n",
    "\n",
    "For this reason, it is better to patch the built-in functions to handle `CloudPath` objects rather than rely on `__fspath__`, especially if you are writing to these files.\n",
    "\n",
    "\n",
    "## Setting with environment variables\n",
    "\n",
    "These methods can be enabled by setting the following environment variables:\n",
    " - `CLOUDPATHLIB_PATCH_ALL=1` - patch all the builtins we implement: `open`, `os` functions, and `glob`\n",
    " - `CLOUDPATHLIB_PATCH_OPEN=1` - patch the builtin `open` method\n",
    " - `CLOUDPATHLIB_PATCH_OS_FUNCTIONS=1` - patch the `os` functions\n",
    " - `CLOUDPATHLIB_PATCH_GLOB=1` - patch the `glob` module\n",
    "\n",
    "You can set environment variables in many ways, but it is common to either pass it at the command line with something like `CLOUDPATHLIB_PATCH_ALL=1 python my_script.py` or to set it in your Python script with `os.environ['CLOUDPATHLIB_PATCH_ALL'] = 1`. Note, these _must_ be set before any `cloudpathlib` methods are imported.\n",
    "\n",
    "## Setting with patch methods globally\n",
    "\n",
    "Instead of setting environment variables, you can call methods to patch the functions. For example, you may call these at import time in your application or script. This will use the patched methods throughout your application.\n",
    "\n",
    "```python\n",
    "from cloudpathlib import patch_all_builtins, patch_open, patch_os_functions, patch_glob\n",
    "\n",
    "# patch the builtins your code or a library that you call uses\n",
    "patch_open()\n",
    "patch_os_functions()\n",
    "patch_glob()\n",
    "\n",
    "# or, if you want all of these at once\n",
    "patch_all_builtins()\n",
    "```\n",
    "\n",
    "## Setting with a context manager\n",
    "\n",
    "Finally, you can control the scope which the patch is used with a context manager. For example, you may have just one call to an external library that is failing to accept `CloudPath`. You can limit the patch effect to that call by using a context manager, which will remove the patch at the end of the block. This is useful if you want to patch the functions for a specific block of code but not for the rest of the application.\n",
    "\n",
    "```python\n",
    "from cloudpathlib import patch_all_builtins\n",
    "\n",
    "with patch_all_builtins():\n",
    "    with open(cloud_path) as f:\n",
    "        data = f.read()\n",
    "```\n",
    "\n",
    "This is the narrowest, most targeted way to update the builtin Python methods that don't just work with `CloudPath` objects.\n",
    "\n",
    "Next, we'll walk through some examples of patching and using these methods.\n"
   ]
  },
  {
   "cell_type": "markdown",
   "metadata": {},
   "source": [
    "We can see a similar result for patching the functions in the `os` module."
   ]
  },
  {
   "cell_type": "markdown",
   "metadata": {},
   "source": [
    "## Patching `open`\n",
    "\n",
    "Sometimes code uses the Python built-in `open` to open files and operate on them. In those cases, passing a `CloudPath` will fail. You can patch the built-in `open` so that when a `CloudPath` is provided it uses `CloudPath.open`, otherwise defers to the original behavior.\n",
    "\n",
    "Here's an example that would not work unless you patch the built-ins (for example, if you depend on a third-party library that calls `open`).\n",
    "\n",
    "It will fail with an `OverwriteNewerLocalError` because `read_text` tries to download from the cloud to a cache path that has been updated locally (but, crucially, not rewritten back to the cloud).\n"
   ]
  },
  {
   "cell_type": "code",
   "execution_count": 1,
   "metadata": {},
   "outputs": [],
   "source": [
    "# Imagine that deep in a third-party library a function is implemented like this\n",
    "def library_function(filepath: str):\n",
    "    with open(filepath, \"w\") as f:\n",
    "        f.write(\"hello!\")"
   ]
  },
  {
   "cell_type": "code",
   "execution_count": 2,
   "metadata": {},
   "outputs": [
    {
     "name": "stdout",
     "output_type": "stream",
     "text": [
      "<class 'cloudpathlib.exceptions.OverwriteNewerLocalError'>\n",
      "Local file (/var/folders/sz/c8j64tx91mj0jb0vd1s4wj700000gn/T/tmpnoc8ue_f/cloudpathlib-test-bucket/patching_builtins/new_file.txt) for cloud path (s3://cloudpathlib-test-bucket/patching_builtins/new_file.txt) is newer on disk, but is being requested for download from cloud. Either (1) push your changes to the cloud, (2) remove the local file, or (3) pass `force_overwrite_from_cloud=True` to overwrite; or set env var CLOUDPATHLIB_FORCE_OVERWRITE_FROM_CLOUD=1.\n"
     ]
    }
   ],
   "source": [
    "from cloudpathlib import CloudPath\n",
    "\n",
    "# create file to read\n",
    "cp = CloudPath(\"s3://cloudpathlib-test-bucket/patching_builtins/new_file.txt\")\n",
    "\n",
    "try:\n",
    "    library_function(cp)\n",
    "\n",
    "    # read the text that was written\n",
    "    assert cp.read_text() == \"hello!\"\n",
    "except Exception as e:\n",
    "    print(type(e))\n",
    "    print(e)"
   ]
  },
  {
   "cell_type": "markdown",
   "metadata": {},
   "source": [
    "### Patching `open` in Jupyter notebooks\n",
    "\n",
    "Since this documentation runs as a Jupyter notebook, there is an extra step to patch `open`. Jupyter notebooks inject their own `open` into the user namespace. After enabling the patch, ensure the notebook's `open` refers to the patched built-in:\n",
    "\n",
    "```python\n",
    "from cloudpathlib import patch_open\n",
    "\n",
    "open = patch_open().patched   # rebind notebook's open to the patched version\n",
    "```"
   ]
  },
  {
   "cell_type": "code",
   "execution_count": 3,
   "metadata": {},
   "outputs": [
    {
     "name": "stdout",
     "output_type": "stream",
     "text": [
      "Succeeded!\n"
     ]
    }
   ],
   "source": [
    "from cloudpathlib import CloudPath, patch_open\n",
    "\n",
    "# enable patch and rebind notebook's open\n",
    "open = patch_open().patched\n",
    "\n",
    "# create file to read\n",
    "cp = CloudPath(\"s3://cloudpathlib-test-bucket/patching_builtins/file.txt\")\n",
    "\n",
    "library_function(cp)\n",
    "assert cp.read_text() == \"hello!\"\n",
    "print(\"Succeeded!\")"
   ]
  },
  {
   "cell_type": "markdown",
   "metadata": {},
   "source": [
    "## Examples: os.path functions with CloudPath\n",
    "\n",
    "The snippet below demonstrates common `os.path` functions when patched to accept `CloudPath` values. These calls work for `CloudPath` and still behave normally for string paths.\n"
   ]
  },
  {
   "cell_type": "code",
   "execution_count": 4,
   "metadata": {},
   "outputs": [
    {
     "name": "stdout",
     "output_type": "stream",
     "text": [
      "Unpatched version fails:\n",
      "expected S3Path.__fspath__() to return str or bytes, not S3Path\n"
     ]
    }
   ],
   "source": [
    "import os\n",
    "\n",
    "from cloudpathlib import patch_os_functions, CloudPath\n",
    "\n",
    "cp = CloudPath(\"s3://cloudpathlib-test-bucket/patching_builtins/file.txt\")\n",
    "folder = cp.parent\n",
    "\n",
    "try:\n",
    "    print(os.path.isdir(folder))\n",
    "except Exception as e:\n",
    "    print(\"Unpatched version fails:\")\n",
    "    print(e)"
   ]
  },
  {
   "cell_type": "code",
   "execution_count": 5,
   "metadata": {},
   "outputs": [
    {
     "name": "stdout",
     "output_type": "stream",
     "text": [
      "Patched version of `os.path.isdir` returns:  True\n",
      "basename: file.txt\n",
      "dirname: s3://cloudpathlib-test-bucket/patching_builtins\n",
      "join: s3://cloudpathlib-test-bucket/patching_builtins/dir/sub/name.txt\n"
     ]
    }
   ],
   "source": [
    "with patch_os_functions():\n",
    "    result = os.path.isdir(folder)\n",
    "    print(\"Patched version of `os.path.isdir` returns: \", result)\n",
    "\n",
    "    print(\"basename:\", os.path.basename(cp))\n",
    "\n",
    "    print(\"dirname:\", os.path.dirname(cp))\n",
    "\n",
    "    joined = os.path.join(folder, \"dir\", \"sub\", \"name.txt\")\n",
    "    print(\"join:\", joined)"
   ]
  },
  {
   "cell_type": "markdown",
   "metadata": {},
   "source": [
    "## Examples: glob with CloudPath\n",
    "\n",
    "The snippet below demonstrates `glob.glob` and `glob.iglob` working with `CloudPath` as the pattern or `root_dir` when patched.\n"
   ]
  },
  {
   "cell_type": "code",
   "execution_count": 6,
   "metadata": {},
   "outputs": [
    {
     "name": "stdout",
     "output_type": "stream",
     "text": [
      "Unpatched version fails:\n",
      "'S3Path' object is not subscriptable\n"
     ]
    }
   ],
   "source": [
    "from glob import glob\n",
    "\n",
    "from cloudpathlib import patch_glob, CloudPath\n",
    "\n",
    "try:\n",
    "    glob(CloudPath(\"s3://cloudpathlib-test-bucket/manual-tests/**/*dir*/**\"))\n",
    "except Exception as e:\n",
    "    print(\"Unpatched version fails:\")\n",
    "    print(e)"
   ]
  },
  {
   "cell_type": "code",
   "execution_count": 7,
   "metadata": {},
   "outputs": [
    {
     "name": "stdout",
     "output_type": "stream",
     "text": [
      "Patched succeeds:\n",
      "[S3Path('s3://cloudpathlib-test-bucket/manual-tests/dirB/fileB'), S3Path('s3://cloudpathlib-test-bucket/manual-tests/dirC/dirD'), S3Path('s3://cloudpathlib-test-bucket/manual-tests/dirC/fileC'), S3Path('s3://cloudpathlib-test-bucket/manual-tests/dirC/dirD/fileD'), S3Path('s3://cloudpathlib-test-bucket/manual-tests/nested-dir/test.file'), S3Path('s3://cloudpathlib-test-bucket/manual-tests/dirC/dirD/fileD'), S3Path('s3://cloudpathlib-test-bucket/manual-tests/glob_test/dirB/fileB'), S3Path('s3://cloudpathlib-test-bucket/manual-tests/glob_test/dirC/dirD'), S3Path('s3://cloudpathlib-test-bucket/manual-tests/glob_test/dirC/fileC'), S3Path('s3://cloudpathlib-test-bucket/manual-tests/glob_test/dirC/dirD/fileD'), S3Path('s3://cloudpathlib-test-bucket/manual-tests/glob_test/dirC/dirD/fileD')]\n",
      "[S3Path('s3://cloudpathlib-test-bucket/manual-tests/dirB/fileB'), S3Path('s3://cloudpathlib-test-bucket/manual-tests/dirC/dirD'), S3Path('s3://cloudpathlib-test-bucket/manual-tests/dirC/fileC'), S3Path('s3://cloudpathlib-test-bucket/manual-tests/dirC/dirD/fileD'), S3Path('s3://cloudpathlib-test-bucket/manual-tests/nested-dir/test.file'), S3Path('s3://cloudpathlib-test-bucket/manual-tests/dirC/dirD/fileD'), S3Path('s3://cloudpathlib-test-bucket/manual-tests/glob_test/dirB/fileB'), S3Path('s3://cloudpathlib-test-bucket/manual-tests/glob_test/dirC/dirD'), S3Path('s3://cloudpathlib-test-bucket/manual-tests/glob_test/dirC/fileC'), S3Path('s3://cloudpathlib-test-bucket/manual-tests/glob_test/dirC/dirD/fileD'), S3Path('s3://cloudpathlib-test-bucket/manual-tests/glob_test/dirC/dirD/fileD')]\n"
     ]
    }
   ],
   "source": [
    "with patch_glob():\n",
    "    print(\"Patched succeeds:\")\n",
    "    print(glob(CloudPath(\"s3://cloudpathlib-test-bucket/manual-tests/**/*dir*/**/*\")))\n",
    "\n",
    "    # or equivalently\n",
    "    print(glob(\"**/*dir*/**/*\", root_dir=CloudPath(\"s3://cloudpathlib-test-bucket/manual-tests/\")))"
   ]
  },
  {
   "cell_type": "markdown",
   "metadata": {},
   "source": [
    "# Examples with third party libraries\n",
    "\n",
    "Here we show that third party libraries, like Pillow, that don't work as expected without patching the built-ins.\n",
    "\n",
    "However, if we patch built-ins, we can see the functions work as expected."
   ]
  },
  {
   "cell_type": "markdown",
   "metadata": {},
   "source": [
    "## Pillow example"
   ]
  },
  {
   "cell_type": "code",
   "execution_count": 8,
   "metadata": {},
   "outputs": [
    {
     "name": "stdout",
     "output_type": "stream",
     "text": [
      "Pillow without patch: FAILED: expected S3Path.__fspath__() to return str or bytes, not S3Path\n"
     ]
    }
   ],
   "source": [
    "from cloudpathlib import CloudPath, patch_all_builtins\n",
    "from PIL import Image\n",
    "\n",
    "\n",
    "base = CloudPath(\"s3://cloudpathlib-test-bucket/patching_builtins/third_party/\")\n",
    "\n",
    "img_path = base / \"pillow_demo.png\"\n",
    "\n",
    "# Unpatched: using CloudPath directly fails\n",
    "try:\n",
    "    Image.new(\"RGB\", (10, 10), color=(255, 0, 0)).save(img_path)\n",
    "except Exception as e:\n",
    "    print(\"Pillow without patch: FAILED:\", e)"
   ]
  },
  {
   "cell_type": "code",
   "execution_count": 9,
   "metadata": {},
   "outputs": [
    {
     "name": "stdout",
     "output_type": "stream",
     "text": [
      "With patches, Pillow successfully writes to a CloudPath\n"
     ]
    }
   ],
   "source": [
    "# Patched: success with patching builtins\n",
    "with patch_all_builtins():\n",
    "    Image.new(\"RGB\", (10, 10), color=(255, 0, 0)).save(img_path)\n",
    "\n",
    "    assert img_path.read_bytes()\n",
    "    print(\"With patches, Pillow successfully writes to a CloudPath\")"
   ]
  },
  {
   "cell_type": "markdown",
   "metadata": {},
   "source": [
    "## Caveat: Some libraries still do not work\n",
    "\n",
    "Even with patches, some libraries will not work. For example, writing directly to a `CloudPath` with `pandas` is not possible because `pandas` has a complex set of IO checks it does in its own codebase.\n",
    "\n",
    "For many of these libraries (including `pandas`) using `CloudPath.open` and then passing the buffer to the functions that can read and write to those buffers is usually the cleanest workaround.\n",
    "\n",
    "For example, here is the best way to write to a `CloudPath` with `pandas`:"
   ]
  },
  {
   "cell_type": "code",
   "execution_count": 10,
   "metadata": {},
   "outputs": [
    {
     "name": "stdout",
     "output_type": "stream",
     "text": [
      "Could not write with `to_csv` because error:  Invalid file path or buffer object type: <class 'cloudpathlib.s3.s3path.S3Path'>\n"
     ]
    }
   ],
   "source": [
    "import pandas as pd\n",
    "\n",
    "df = pd.DataFrame([[0, 1], [2, 3]], columns=[\"a\", \"b\"])\n",
    "\n",
    "cloud_path = base / \"data.csv\"\n",
    "\n",
    "try:\n",
    "    df.to_csv(cloud_path)\n",
    "except Exception as e:\n",
    "    print(\"Could not write with `to_csv` because error: \", e)"
   ]
  },
  {
   "cell_type": "code",
   "execution_count": 11,
   "metadata": {},
   "outputs": [
    {
     "name": "stdout",
     "output_type": "stream",
     "text": [
      "Successfully wrote to  s3://cloudpathlib-test-bucket/patching_builtins/third_party/data.csv\n"
     ]
    }
   ],
   "source": [
    "# instead, use .open\n",
    "with cloud_path.open(\"w\") as f:\n",
    "    df.to_csv(f)\n",
    "\n",
    "assert cloud_path.exists()\n",
    "print(\"Successfully wrote to \", cloud_path)"
   ]
  }
 ],
 "metadata": {
  "kernelspec": {
   "display_name": "cloudpathlib",
   "language": "python",
   "name": "python3"
  },
  "language_info": {
   "codemirror_mode": {
    "name": "ipython",
    "version": 3
   },
   "file_extension": ".py",
   "mimetype": "text/x-python",
   "name": "python",
   "nbconvert_exporter": "python",
   "pygments_lexer": "ipython3",
   "version": "3.12.7"
  }
 },
 "nbformat": 4,
 "nbformat_minor": 4
}
