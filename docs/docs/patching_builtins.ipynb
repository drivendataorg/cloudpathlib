{
 "cells": [
  {
   "cell_type": "markdown",
   "metadata": {},
   "source": [
    "# Patching Python builtins (third-party library compatibility)\n",
    "\n",
    "Not every Python library is implemented to accept pathlib-compatible objects like those implemented by cloudpathlib. Many libraries will only accept strings as filepaths. These libraries then may internally use `open`, functions from `os` and `os.path`, or other core library modules like `glob` to navigate paths and manipulate them.\n",
    "\n",
    "This means that out-of-the-box you can't just pass a `CloudPath` object to any method or function and have it work. For those implemented with `pathlib`, this will work. For anything else the code will throw an exception at some point.\n",
    "\n",
    "The long-term solution is to ask developers to implement their library to support either (1) pathlib-compatible objects for files and directories, or (2) file-like objects passed directly (e.g., so you could call `CloudPath.open` in your code and pass the the file-like object to the library).\n",
    "\n",
    "The short-term workaround that will be compatible with some libraries is to patch the builtins to make `open`, `os`, `os.path`, and `glob` work with `CloudPath` objects. Because this overrides default Python functionality, this is not on by default. When patched, these functions will use the `CloudPath` version if they are passed a `CloudPath` and will fallback to their normal implementations otherwise.\n",
    "\n",
    "These methods can be enabled by setting the following environment variables:\n",
    " - `CLOUDPATHLIB_PACTH_ALL=1` - patch all the builtins we implement: `open`, `os` functions, and `glob`\n",
    " - `CLOUDPATHLIB_PACTH_OPEN=1` - patch the builtin `open` method\n",
    " - `CLOUDPATHLIB_PACTH_OS_FUNCTIONS=1` - patch the `os` functions\n",
    " - `CLOUDPATHLIB_PACTH_GLOB=1` - patch the `glob` module\n",
    "\n",
    "You can set environment variables in many ways, but it is common to either pass it at the command line with something like `CLOUDPATHLIB_PACTH_ALL=1 python my_script.py` or to set it in your Python script with `os.environ['CLOUDPATHLIB_PACTH_ALL'] = 1`. Note, these _must_ be set before any `cloudpathlib` methods are imported.\n",
    "\n",
    "Alternatively, you can call methods to patch the functions.\n",
    "\n",
    "```python\n",
    "from cloudpathlib import patch_open, patch_os_functions, patch_glob\n",
    "\n",
    "# patch builtins\n",
    "patch_open()\n",
    "patch_os_functions()\n",
    "patch_glob()\n",
    "```"
   ]
  },
  {
   "cell_type": "markdown",
   "metadata": {},
   "source": [
    "These patch methods are all context managers, so if you want to control where the patch is active, you can use them in a `with` statement. For example:"
   ]
  },
  {
   "cell_type": "code",
   "execution_count": 1,
   "metadata": {},
   "outputs": [],
   "source": [
    "%load_ext autoreload\n",
    "%autoreload 2"
   ]
  },
  {
   "cell_type": "code",
   "execution_count": 2,
   "metadata": {},
   "outputs": [
    {
     "name": "stdout",
     "output_type": "stream",
     "text": [
      "Unpatched version fails:\n",
      "'S3Path' object is not subscriptable\n",
      "Patched succeeds:\n",
      "[S3Path('s3://cloudpathlib-test-bucket/manual-tests/dirB/fileB'), S3Path('s3://cloudpathlib-test-bucket/manual-tests/dirC/dirD'), S3Path('s3://cloudpathlib-test-bucket/manual-tests/dirC/fileC'), S3Path('s3://cloudpathlib-test-bucket/manual-tests/dirC/dirD/fileD'), S3Path('s3://cloudpathlib-test-bucket/manual-tests/nested-dir/test.file'), S3Path('s3://cloudpathlib-test-bucket/manual-tests/dirC/dirD/fileD'), S3Path('s3://cloudpathlib-test-bucket/manual-tests/glob_test/dirB/fileB'), S3Path('s3://cloudpathlib-test-bucket/manual-tests/glob_test/dirC/dirD'), S3Path('s3://cloudpathlib-test-bucket/manual-tests/glob_test/dirC/fileC'), S3Path('s3://cloudpathlib-test-bucket/manual-tests/glob_test/dirC/dirD/fileD'), S3Path('s3://cloudpathlib-test-bucket/manual-tests/glob_test/dirC/dirD/fileD')]\n",
      "`glob` module now is equivalent to `CloudPath.glob`\n",
      "[S3Path('s3://cloudpathlib-test-bucket/manual-tests/dirB/fileB'), S3Path('s3://cloudpathlib-test-bucket/manual-tests/dirC/dirD'), S3Path('s3://cloudpathlib-test-bucket/manual-tests/dirC/fileC'), S3Path('s3://cloudpathlib-test-bucket/manual-tests/dirC/dirD/fileD'), S3Path('s3://cloudpathlib-test-bucket/manual-tests/nested-dir/test.file'), S3Path('s3://cloudpathlib-test-bucket/manual-tests/dirC/dirD/fileD'), S3Path('s3://cloudpathlib-test-bucket/manual-tests/glob_test/dirB/fileB'), S3Path('s3://cloudpathlib-test-bucket/manual-tests/glob_test/dirC/dirD'), S3Path('s3://cloudpathlib-test-bucket/manual-tests/glob_test/dirC/fileC'), S3Path('s3://cloudpathlib-test-bucket/manual-tests/glob_test/dirC/dirD/fileD'), S3Path('s3://cloudpathlib-test-bucket/manual-tests/glob_test/dirC/dirD/fileD')]\n"
     ]
    }
   ],
   "source": [
    "from glob import glob\n",
    "\n",
    "from cloudpathlib import patch_glob, CloudPath\n",
    "\n",
    "try:\n",
    "    glob(CloudPath(\"s3://cloudpathlib-test-bucket/manual-tests/**/*dir*/**\"))\n",
    "except Exception as e:\n",
    "    print(\"Unpatched version fails:\")\n",
    "    print(e)\n",
    "\n",
    "\n",
    "with patch_glob():\n",
    "    print(\"Patched succeeds:\")\n",
    "    print(glob(CloudPath(\"s3://cloudpathlib-test-bucket/manual-tests/**/*dir*/**/*\")))\n",
    "\n",
    "    # or equivalently\n",
    "    print(\"`glob` module now is equivalent to `CloudPath.glob`\")\n",
    "    print(glob(\"**/*dir*/**/*\", root_dir=CloudPath(\"s3://cloudpathlib-test-bucket/manual-tests/\")))"
   ]
  },
  {
   "cell_type": "markdown",
   "metadata": {},
   "source": [
    "We can see a similar result for patching the functions in the `os` module."
   ]
  },
  {
   "cell_type": "code",
   "execution_count": 3,
   "metadata": {},
   "outputs": [
    {
     "name": "stdout",
     "output_type": "stream",
     "text": [
      "False\n",
      "Patched version of `os.path.isdir` returns:  True\n"
     ]
    }
   ],
   "source": [
    "import os\n",
    "\n",
    "from cloudpathlib import patch_os_functions, CloudPath\n",
    "\n",
    "try:\n",
    "    print(os.path.isdir(CloudPath(\"s3://cloudpathlib-test-bucket/manual-tests/\")))\n",
    "except Exception as e:\n",
    "    print(\"Unpatched version fails:\")\n",
    "    print(e)\n",
    "\n",
    "\n",
    "with patch_os_functions():\n",
    "    result = os.path.isdir(CloudPath(\"s3://cloudpathlib-test-bucket/manual-tests/\"))\n",
    "    print(\"Patched version of `os.path.isdir` returns: \", result)"
   ]
  },
  {
   "cell_type": "markdown",
   "metadata": {},
   "source": [
    "## Patching `open`\n",
    "\n",
    "Sometimes code uses the Python built-in `open` to open files and operate on them. In those cases, passing a `CloudPath` will fail. You can patch the built-in `open` so that when a `CloudPath` is provided it uses `CloudPath.open`, otherwise defers to the original behavior.\n",
    "\n",
    "### Patching `open` in Jupyter notebooks\n",
    "\n",
    "Jupyter notebooks inject their own `open` into the user namespace. After enabling the patch, ensure the notebook's `open` refers to the patched built-in:\n",
    "\n",
    "```python\n",
    "from cloudpathlib import patch_open\n",
    "\n",
    "open = patch_open().patched   # rebind notebook's open to the patched version\n",
    "```\n",
    "\n",
    "Here's an example that doesn't work right now (for example, if you depend on a third-party library that calls `open`)."
   ]
  },
  {
   "cell_type": "code",
   "execution_count": 4,
   "metadata": {},
   "outputs": [],
   "source": [
    "# deep in a third-party library a function calls the built-in open\n",
    "def library_function(filepath: str):\n",
    "    with open(filepath, \"w\") as f:\n",
    "        f.write(\"hello!\")"
   ]
  },
  {
   "cell_type": "code",
   "execution_count": 5,
   "metadata": {},
   "outputs": [
    {
     "name": "stdout",
     "output_type": "stream",
     "text": [
      "[Errno 2] No such file or directory: '/var/folders/sz/c8j64tx91mj0jb0vd1s4wj700000gn/T/tmpykd4wirh/cloudpathlib-test-bucket/patching_builtins/new_file.txt'\n"
     ]
    }
   ],
   "source": [
    "from cloudpathlib import CloudPath\n",
    "\n",
    "# create file to read\n",
    "cp = CloudPath(\"s3://cloudpathlib-test-bucket/patching_builtins/new_file.txt\")\n",
    "\n",
    "# fails with a TypeError if passed a CloudPath\n",
    "try:\n",
    "    library_function(cp)\n",
    "    cp.read_text() == \"hello!\"\n",
    "except Exception as e:\n",
    "    print(e)"
   ]
  },
  {
   "cell_type": "code",
   "execution_count": 6,
   "metadata": {},
   "outputs": [
    {
     "name": "stdout",
     "output_type": "stream",
     "text": [
      "True\n"
     ]
    }
   ],
   "source": [
    "from cloudpathlib import CloudPath, patch_open\n",
    "\n",
    "# enable patch and rebind notebook's open\n",
    "open = patch_open().patched\n",
    "\n",
    "\n",
    "# deep in a third-party library a function calls the built-in open\n",
    "def library_function(filepath: str):\n",
    "    with open(filepath, \"w\") as f:\n",
    "        f.write(\"hello!\")\n",
    "\n",
    "\n",
    "# create file to read\n",
    "cp = CloudPath(\"s3://cloudpathlib-test-bucket/patching_builtins/file.txt\")\n",
    "\n",
    "try:\n",
    "    library_function(cp)\n",
    "    print(cp.read_text() == \"hello!\")\n",
    "except Exception as e:\n",
    "    print(e)"
   ]
  },
  {
   "cell_type": "markdown",
   "metadata": {},
   "source": [
    "## Examples: os.path functions with CloudPath\n",
    "\n",
    "The snippet below demonstrates common `os.path` functions when patched to accept `CloudPath` values. These calls work for `CloudPath` and still behave normally for string paths.\n"
   ]
  },
  {
   "cell_type": "code",
   "execution_count": 7,
   "metadata": {},
   "outputs": [
    {
     "name": "stdout",
     "output_type": "stream",
     "text": [
      "basename: example.txt\n",
      "dirname: s3://cloudpathlib-test-bucket/patching_builtins/ospath_demo/dir\n",
      "exists(file): True\n",
      "isfile(file): True\n",
      "isdir(dir): True\n",
      "join: s3://cloudpathlib-test-bucket/patching_builtins/ospath_demo/dir/sub/name.txt\n",
      "split head: s3://cloudpathlib-test-bucket/patching_builtins/ospath_demo/dir\n",
      "split tail: example.txt\n",
      "splitext root: s3://cloudpathlib-test-bucket/patching_builtins/ospath_demo/dir/example\n",
      "splitext ext: .txt\n",
      "commonpath: s3://cloudpathlib-test-bucket/patching_builtins/ospath_demo/dir\n",
      "commonprefix: s3://cloudpathlib-test-bucket/patching_builtins/ospath_demo/dir/\n"
     ]
    }
   ],
   "source": [
    "import os\n",
    "from cloudpathlib import CloudPath, patch_os_functions\n",
    "\n",
    "# Create a small demo structure in your configured cloud provider (mocked in tests)\n",
    "base = CloudPath(\"s3://cloudpathlib-test-bucket/patching_builtins/ospath_demo/\")\n",
    "file_path = base / \"dir\" / \"example.txt\"\n",
    "\n",
    "with patch_os_functions():\n",
    "    # ensure directory/file exist for demo purposes\n",
    "    file_path.parent.mkdir(exist_ok=True)\n",
    "    file_path.write_text(\"content\")\n",
    "\n",
    "    # basename\n",
    "    print(\"basename:\", os.path.basename(file_path))  # => \"example.txt\"\n",
    "\n",
    "    # dirname\n",
    "    print(\"dirname:\", os.path.dirname(file_path))  # => CloudPath(.../ospath_demo/dir)\n",
    "\n",
    "    # exists / isfile / isdir\n",
    "    print(\"exists(file):\", os.path.exists(file_path))\n",
    "    print(\"isfile(file):\", os.path.isfile(file_path))\n",
    "    print(\"isdir(dir):\", os.path.isdir(file_path.parent))\n",
    "\n",
    "    # join\n",
    "    joined = os.path.join(base, \"dir\", \"sub\", \"name.txt\")\n",
    "    print(\"join:\", joined)\n",
    "\n",
    "    # split\n",
    "    head, tail = os.path.split(file_path)\n",
    "    print(\"split head:\", head)\n",
    "    print(\"split tail:\", tail)\n",
    "\n",
    "    # splitext\n",
    "    root, ext = os.path.splitext(file_path)\n",
    "    print(\"splitext root:\", root)\n",
    "    print(\"splitext ext:\", ext)\n",
    "\n",
    "    # commonpath/commonprefix\n",
    "    p1 = base / \"dir\" / \"a.txt\"\n",
    "    p2 = base / \"dir\" / \"b.txt\"\n",
    "    print(\"commonpath:\", os.path.commonpath([p1, p2]))  # => CloudPath(.../ospath_demo/dir)\n",
    "    print(\"commonprefix:\", os.path.commonprefix([p1, p2]))"
   ]
  },
  {
   "cell_type": "markdown",
   "metadata": {},
   "source": [
    "## Examples: glob with CloudPath\n",
    "\n",
    "The snippet below demonstrates `glob.glob` and `glob.iglob` working with `CloudPath` as the pattern or `root_dir` when patched.\n"
   ]
  },
  {
   "cell_type": "code",
   "execution_count": 8,
   "metadata": {},
   "outputs": [
    {
     "name": "stdout",
     "output_type": "stream",
     "text": [
      "*.txt: [S3Path('s3://cloudpathlib-test-bucket/patching_builtins/glob_demo/file1.txt')]\n",
      "**/*.txt: [S3Path('s3://cloudpathlib-test-bucket/patching_builtins/glob_demo/file1.txt'), S3Path('s3://cloudpathlib-test-bucket/patching_builtins/glob_demo/sub/file3.txt')]\n",
      "root_dir + pattern: [S3Path('s3://cloudpathlib-test-bucket/patching_builtins/glob_demo/file2.py')]\n",
      "iglob first: s3://cloudpathlib-test-bucket/patching_builtins/glob_demo/file1.txt\n"
     ]
    }
   ],
   "source": [
    "import glob\n",
    "from cloudpathlib import CloudPath, patch_glob\n",
    "\n",
    "root = CloudPath(\"s3://cloudpathlib-test-bucket/patching_builtins/glob_demo/\")\n",
    "\n",
    "with patch_glob():\n",
    "    # setup demo files\n",
    "    (root / \"sub\").mkdir(exist_ok=True)\n",
    "    (root / \"file1.txt\").write_text(\"1\")\n",
    "    (root / \"file2.py\").write_text(\"2\")\n",
    "    (root / \"sub\" / \"file3.txt\").write_text(\"3\")\n",
    "\n",
    "    # Pattern as CloudPath\n",
    "    print(\"*.txt:\", glob.glob(root / \"*.txt\"))\n",
    "\n",
    "    # Recursive patterns\n",
    "    print(\"**/*.txt:\", glob.glob(root / \"**/*.txt\"))\n",
    "\n",
    "    # Using root_dir with string pattern\n",
    "    print(\"root_dir + pattern:\", glob.glob(\"*.py\", root_dir=root))\n",
    "\n",
    "    # iglob iterator\n",
    "    it = glob.iglob(root / \"*.txt\")\n",
    "    print(\"iglob first:\", next(it))"
   ]
  }
 ],
 "metadata": {
  "kernelspec": {
   "display_name": "cloudpathlib",
   "language": "python",
   "name": "python3"
  },
  "language_info": {
   "codemirror_mode": {
    "name": "ipython",
    "version": 3
   },
   "file_extension": ".py",
   "mimetype": "text/x-python",
   "name": "python",
   "nbconvert_exporter": "python",
   "pygments_lexer": "ipython3",
   "version": "3.12.7"
  }
 },
 "nbformat": 4,
 "nbformat_minor": 2
}
