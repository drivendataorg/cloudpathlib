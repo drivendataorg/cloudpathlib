{
 "cells": [
  {
   "cell_type": "markdown",
   "metadata": {},
   "source": [
    "# Why cloudpathlib?"
   ]
  },
  {
   "cell_type": "markdown",
   "metadata": {},
   "source": [
    "## We 😍 pathlib\n",
    "\n",
    "`pathlib` a wonderful tool for working with filesystem paths, available from the Python 3 standard library. "
   ]
  },
  {
   "cell_type": "code",
   "execution_count": 1,
   "metadata": {},
   "outputs": [],
   "source": [
    "from pathlib import Path"
   ]
  },
  {
   "cell_type": "markdown",
   "metadata": {},
   "source": [
    "For example, we can easily list all the files in a directory."
   ]
  },
  {
   "cell_type": "code",
   "execution_count": 2,
   "metadata": {},
   "outputs": [
    {
     "data": {
      "text/plain": [
       "[PosixPath('caching.ipynb'),\n",
       " PosixPath('why_cloudpathlib.ipynb'),\n",
       " PosixPath('api-reference'),\n",
       " PosixPath('.ipynb_checkpoints'),\n",
       " PosixPath('logo-no-text.svg'),\n",
       " PosixPath('logo.svg'),\n",
       " PosixPath('authentication.ipynb'),\n",
       " PosixPath('favicon.svg'),\n",
       " PosixPath('stylesheets')]"
      ]
     },
     "execution_count": 2,
     "metadata": {},
     "output_type": "execute_result"
    }
   ],
   "source": [
    "list(Path(\".\").glob('*'))"
   ]
  },
  {
   "cell_type": "markdown",
   "metadata": {},
   "source": [
    "There are methods to quickly learn everything there is to know about a filesystem path, and even do simple file manipulations."
   ]
  },
  {
   "cell_type": "code",
   "execution_count": 3,
   "metadata": {
    "tags": []
   },
   "outputs": [
    {
     "name": "stdout",
     "output_type": "stream",
     "text": [
      "Path:          /Users/bull/code/cloudpathlib/docs/docs/why_cloudpathlib.ipynb\n",
      "Name:          why_cloudpathlib.ipynb\n",
      "Stem:          why_cloudpathlib\n",
      "Suffix:        .ipynb\n",
      "With suffix:   /Users/bull/code/cloudpathlib/docs/docs/why_cloudpathlib.cpp\n",
      "Parent:        /Users/bull/code/cloudpathlib/docs/docs\n",
      "Read_text:\n",
      "{\n",
      " \"cells\": [\n",
      "  {\n",
      "   \"cell_type\": \"markdown\",\n",
      "   \"metadata\": {},\n",
      "   \"source\": [\n",
      "    \"# Why cloudpathlib?\"\n",
      "   ]\n",
      "  },\n",
      "  {\n",
      "   \"cell_type\": \"markdown\",\n",
      "   \"metadata\": {},\n",
      "   \"source\": [\n",
      "    \"## We 😍 pathl\n",
      "\n"
     ]
    }
   ],
   "source": [
    "notebook = Path(\"why_cloudpathlib.ipynb\").resolve()\n",
    "\n",
    "print(f\"{'Path:':15}{notebook}\")\n",
    "print(f\"{'Name:':15}{notebook.name}\")\n",
    "print(f\"{'Stem:':15}{notebook.stem}\")\n",
    "print(f\"{'Suffix:':15}{notebook.suffix}\")\n",
    "print(f\"{'With suffix:':15}{notebook.with_suffix('.cpp')}\")\n",
    "print(f\"{'Parent:':15}{notebook.parent}\")\n",
    "print(f\"{'Read_text:'}\\n{notebook.read_text()[:200]}\\n\")"
   ]
  },
  {
   "cell_type": "markdown",
   "metadata": {},
   "source": [
    "If you're new to pathlib, we highly recommend it over the older `os.path` module. We find that it has a much more intuitive and convenient interface. The [official documentation](https://docs.python.org/3/library/pathlib.html) is a helpful reference, and we also recommend this [excellent cheat sheet by Chris Moffitt](https://github.com/chris1610/pbpython/blob/master/extras/Pathlib-Cheatsheet.pdf). "
   ]
  },
  {
   "cell_type": "markdown",
   "metadata": {},
   "source": [
    "### Cross-platform support\n",
    "\n",
    "One great feature about using `pathlib` over regular strings is that it lets you write code with cross-platform file paths. It \"just works\" on Windows too. Write path manipulations that can run on anyone's machine!\n",
    "\n",
    "```python\n",
    "path = Path.home()\n",
    "path\n",
    ">>> C:\\Users\\DrivenData\\\n",
    "\n",
    "docs = path / 'Documents'\n",
    "docs\n",
    ">>> C:\\Users\\DrivenData\\Documents\n",
    "```"
   ]
  },
  {
   "cell_type": "markdown",
   "metadata": {},
   "source": [
    "## We also 😍 cloud storage\n",
    "\n",
    "This is great, but I live in the future. Not every file I care about is on my machine. What do I do when I am working on S3? Do I have to explicitly download every file before I can do things with them?\n",
    "\n",
    "**Of course not, if you use cloudpathlib!**"
   ]
  },
  {
   "cell_type": "code",
   "execution_count": 4,
   "metadata": {},
   "outputs": [
    {
     "data": {
      "text/plain": [
       "True"
      ]
     },
     "execution_count": 4,
     "metadata": {},
     "output_type": "execute_result"
    }
   ],
   "source": [
    "# load environment variables from .env file;\n",
    "# not required, just where we keep our creds\n",
    "from dotenv import load_dotenv, find_dotenv\n",
    "load_dotenv(find_dotenv())"
   ]
  },
  {
   "cell_type": "code",
   "execution_count": 5,
   "metadata": {},
   "outputs": [
    {
     "data": {
      "text/plain": [
       "'file.txt'"
      ]
     },
     "execution_count": 5,
     "metadata": {},
     "output_type": "execute_result"
    }
   ],
   "source": [
    "from cloudpathlib import S3Path\n",
    "\n",
    "s3p = S3Path(\"s3://cloudpathlib-test-bucket/why_cloudpathlib/file.txt\")\n",
    "s3p.name"
   ]
  },
  {
   "cell_type": "code",
   "execution_count": 6,
   "metadata": {},
   "outputs": [
    {
     "data": {
      "text/plain": [
       "False"
      ]
     },
     "execution_count": 6,
     "metadata": {},
     "output_type": "execute_result"
    }
   ],
   "source": [
    "# Nothing there yet...\n",
    "s3p.exists()"
   ]
  },
  {
   "cell_type": "code",
   "execution_count": 7,
   "metadata": {},
   "outputs": [],
   "source": [
    "# Touch (just like with `pathlib.Path`)\n",
    "s3p.touch()"
   ]
  },
  {
   "cell_type": "code",
   "execution_count": 8,
   "metadata": {},
   "outputs": [
    {
     "data": {
      "text/plain": [
       "True"
      ]
     },
     "execution_count": 8,
     "metadata": {},
     "output_type": "execute_result"
    }
   ],
   "source": [
    "# Bingo!\n",
    "s3p.exists()"
   ]
  },
  {
   "cell_type": "code",
   "execution_count": 9,
   "metadata": {},
   "outputs": [
    {
     "data": {
      "text/plain": [
       "[S3Path('s3://cloudpathlib-test-bucket/why_cloudpathlib/file.txt')]"
      ]
     },
     "execution_count": 9,
     "metadata": {},
     "output_type": "execute_result"
    }
   ],
   "source": [
    "# list all the files in the directory\n",
    "[p for p in s3p.parent.iterdir()]"
   ]
  },
  {
   "cell_type": "code",
   "execution_count": 10,
   "metadata": {},
   "outputs": [
    {
     "name": "stdout",
     "output_type": "stream",
     "text": [
      "File size in bytes: 0\n"
     ]
    },
    {
     "data": {
      "text/plain": [
       "os.stat_result(st_mode=None, st_ino=None, st_dev='s3://', st_nlink=None, st_uid=None, st_gid=None, st_size=0, st_atime=None, st_mtime=1601853143.0, st_ctime=None)"
      ]
     },
     "execution_count": 10,
     "metadata": {},
     "output_type": "execute_result"
    }
   ],
   "source": [
    "stat = s3p.stat()\n",
    "print(f\"File size in bytes: {stat.st_size}\")\n",
    "stat"
   ]
  },
  {
   "cell_type": "code",
   "execution_count": 11,
   "metadata": {},
   "outputs": [
    {
     "data": {
      "text/plain": [
       "27"
      ]
     },
     "execution_count": 11,
     "metadata": {},
     "output_type": "execute_result"
    }
   ],
   "source": [
    "s3p.write_text(\"Hello to all of my friends!\")"
   ]
  },
  {
   "cell_type": "code",
   "execution_count": 12,
   "metadata": {},
   "outputs": [
    {
     "name": "stdout",
     "output_type": "stream",
     "text": [
      "File size in bytes: 27\n"
     ]
    },
    {
     "data": {
      "text/plain": [
       "os.stat_result(st_mode=None, st_ino=None, st_dev='s3://', st_nlink=None, st_uid=None, st_gid=None, st_size=27, st_atime=None, st_mtime=1601853144.0, st_ctime=None)"
      ]
     },
     "execution_count": 12,
     "metadata": {},
     "output_type": "execute_result"
    }
   ],
   "source": [
    "stat = s3p.stat()\n",
    "print(f\"File size in bytes: {stat.st_size}\")\n",
    "stat"
   ]
  },
  {
   "cell_type": "code",
   "execution_count": 13,
   "metadata": {},
   "outputs": [],
   "source": [
    "# Delete (again just like with `pathlib.Path`)\n",
    "s3p.unlink()"
   ]
  },
  {
   "cell_type": "code",
   "execution_count": 14,
   "metadata": {},
   "outputs": [
    {
     "data": {
      "text/plain": [
       "False"
      ]
     },
     "execution_count": 14,
     "metadata": {},
     "output_type": "execute_result"
    }
   ],
   "source": [
    "s3p.exists()"
   ]
  },
  {
   "cell_type": "markdown",
   "metadata": {},
   "source": [
    "### Cross-cloud support\n",
    "\n",
    "That's cool, but I use Azure Blob Storage―what can I do?"
   ]
  },
  {
   "cell_type": "code",
   "execution_count": 15,
   "metadata": {},
   "outputs": [
    {
     "data": {
      "text/plain": [
       "'file.txt'"
      ]
     },
     "execution_count": 15,
     "metadata": {},
     "output_type": "execute_result"
    }
   ],
   "source": [
    "from cloudpathlib import AzureBlobPath\n",
    "\n",
    "azp = AzureBlobPath(\"az://cloudpathlib-test-container/file.txt\")\n",
    "azp.name"
   ]
  },
  {
   "cell_type": "code",
   "execution_count": 16,
   "metadata": {},
   "outputs": [
    {
     "data": {
      "text/plain": [
       "False"
      ]
     },
     "execution_count": 16,
     "metadata": {},
     "output_type": "execute_result"
    }
   ],
   "source": [
    "azp.exists()"
   ]
  },
  {
   "cell_type": "code",
   "execution_count": 17,
   "metadata": {},
   "outputs": [
    {
     "data": {
      "text/plain": [
       "19"
      ]
     },
     "execution_count": 17,
     "metadata": {},
     "output_type": "execute_result"
    }
   ],
   "source": [
    "azp.write_text(\"I'm on Azure, boss.\")"
   ]
  },
  {
   "cell_type": "code",
   "execution_count": 18,
   "metadata": {},
   "outputs": [
    {
     "data": {
      "text/plain": [
       "True"
      ]
     },
     "execution_count": 18,
     "metadata": {},
     "output_type": "execute_result"
    }
   ],
   "source": [
    "azp.exists()"
   ]
  },
  {
   "cell_type": "code",
   "execution_count": 19,
   "metadata": {},
   "outputs": [
    {
     "data": {
      "text/plain": [
       "[AzureBlobPath('az://cloudpathlib-test-container/file.txt')]"
      ]
     },
     "execution_count": 19,
     "metadata": {},
     "output_type": "execute_result"
    }
   ],
   "source": [
    "# list all the files in the directory\n",
    "[p for p in azp.parent.iterdir()]"
   ]
  },
  {
   "cell_type": "code",
   "execution_count": 20,
   "metadata": {},
   "outputs": [
    {
     "data": {
      "text/plain": [
       "True"
      ]
     },
     "execution_count": 20,
     "metadata": {},
     "output_type": "execute_result"
    }
   ],
   "source": [
    "azp.exists()"
   ]
  },
  {
   "cell_type": "code",
   "execution_count": 21,
   "metadata": {},
   "outputs": [],
   "source": [
    "azp.unlink()"
   ]
  },
  {
   "cell_type": "markdown",
   "metadata": {},
   "source": [
    "### Cloud hopping\n",
    "\n",
    "Moving between cloud storage providers should be a simple as moving between disks on your computer. Let's say that the Senior Vice President of Tomfoolery comes to me and says, \"We've got a mandate to migrate our application to Azure Blob Storage from S3!\"\n",
    "\n",
    "No problem, if I used `cloudpathlib`! The `CloudPath` class constructor automatically dispatches to the appropriate concrete class, the same way that `pathlib.Path` does for different operating systems. "
   ]
  },
  {
   "cell_type": "code",
   "execution_count": 22,
   "metadata": {
    "tags": []
   },
   "outputs": [],
   "source": [
    "from cloudpathlib import CloudPath\n",
    "\n",
    "cloud_directory  = CloudPath(\"s3://cloudpathlib-test-bucket/why_cloudpathlib/\")\n",
    "\n",
    "upload = cloud_directory / \"user_upload.txt\"\n",
    "upload.write_text(\"A user made this file!\")\n",
    "\n",
    "assert upload.exists()\n",
    "upload.unlink()\n",
    "assert not upload.exists()"
   ]
  },
  {
   "cell_type": "code",
   "execution_count": 23,
   "metadata": {
    "tags": []
   },
   "outputs": [],
   "source": [
    "from cloudpathlib import CloudPath\n",
    "\n",
    "# Changing this root path is the ONLY change!\n",
    "cloud_directory = CloudPath(\"az://cloudpathlib-test-container/why_cloudpathlib/\")\n",
    "\n",
    "upload = cloud_directory / \"user_upload.txt\"\n",
    "upload.write_text(\"A user made this file!\")\n",
    "\n",
    "assert upload.exists()\n",
    "upload.unlink()\n",
    "assert not upload.exists()"
   ]
  }
 ],
 "metadata": {
  "kernelspec": {
   "display_name": "Python 3",
   "language": "python",
   "name": "python3"
  },
  "language_info": {
   "codemirror_mode": {
    "name": "ipython",
    "version": 3
   },
   "file_extension": ".py",
   "mimetype": "text/x-python",
   "name": "python",
   "nbconvert_exporter": "python",
   "pygments_lexer": "ipython3",
   "version": "3.8.5"
  }
 },
 "nbformat": 4,
 "nbformat_minor": 4
}
