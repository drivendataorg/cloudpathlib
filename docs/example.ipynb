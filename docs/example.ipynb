{
 "metadata": {
  "language_info": {
   "codemirror_mode": {
    "name": "ipython",
    "version": 3
   },
   "file_extension": ".py",
   "mimetype": "text/x-python",
   "name": "python",
   "nbconvert_exporter": "python",
   "pygments_lexer": "ipython3",
   "version": "3.8.5-final"
  },
  "orig_nbformat": 2,
  "kernelspec": {
   "name": "python_defaultSpec_1598589469910",
   "display_name": "Python 3.8.5 64-bit ('cloudpathlib': conda)"
  }
 },
 "nbformat": 4,
 "nbformat_minor": 2,
 "cells": [
  {
   "cell_type": "code",
   "execution_count": 1,
   "metadata": {},
   "outputs": [
    {
     "output_type": "execute_result",
     "data": {
      "text/plain": "True"
     },
     "metadata": {},
     "execution_count": 1
    }
   ],
   "source": [
    "from dotenv import find_dotenv, load_dotenv\n",
    "\n",
    "load_dotenv(find_dotenv())"
   ]
  },
  {
   "cell_type": "code",
   "execution_count": 2,
   "metadata": {},
   "outputs": [],
   "source": [
    "from pathlib import Path"
   ]
  },
  {
   "cell_type": "markdown",
   "metadata": {},
   "source": [
    "### With `pathlib` I can find file paths! "
   ]
  },
  {
   "cell_type": "code",
   "execution_count": 3,
   "metadata": {},
   "outputs": [
    {
     "output_type": "execute_result",
     "data": {
      "text/plain": "[PosixPath('make_support_table.py'),\n PosixPath('example.ipynb'),\n PosixPath('.env')]"
     },
     "metadata": {},
     "execution_count": 3
    }
   ],
   "source": [
    "list(Path(\".\").glob('*'))"
   ]
  },
  {
   "cell_type": "markdown",
   "metadata": {},
   "source": [
    "\n",
    "### I can learn everything there is to know about a Path"
   ]
  },
  {
   "cell_type": "code",
   "execution_count": 4,
   "metadata": {
    "tags": []
   },
   "outputs": [
    {
     "output_type": "stream",
     "name": "stdout",
     "text": "Path:\t\t /Users/bull/code/cloudpathlib/docs/make_support_table.py\nName:\t\t make_support_table.py\nStem:\t\t make_support_table\nSuffix:\t\t .py\nWith suffix:\t /Users/bull/code/cloudpathlib/docs/make_support_table.cpp\nParent:\t\t /Users/bull/code/cloudpathlib/docs\nRead_text:\nfrom copy import copy\nfrom pathlib import Path\n\nimport pandas as pd\n\nimport cloudpathlib\n\n\ndef print_table():\n    path_base = {m for m in dir(Path) if not m.startswith(\"_\")}\n\n    lib_methods = {\n     ...\n"
    }
   ],
   "source": [
    "support = Path(\"make_support_table.py\").resolve()\n",
    "\n",
    "print(\"Path:\\t\\t\", support)\n",
    "print(\"Name:\\t\\t\", support.name)\n",
    "print(\"Stem:\\t\\t\", support.stem)\n",
    "print(\"Suffix:\\t\\t\", support.suffix)\n",
    "print(\"With suffix:\\t\", support.with_suffix(\".cpp\"))\n",
    "print(\"Parent:\\t\\t\", support.parent)\n",
    "print(\"Read_text:\\n\", support.read_text()[:200], \"...\", sep=\"\")\n"
   ]
  },
  {
   "cell_type": "markdown",
   "metadata": {},
   "source": [
    "![](https://pbpython.com/images/pathlib_cheatsheet_full.png)\n",
    "\n",
    "Credit to Chirs Moffat for this excellent cheat sheet, see it in full resolution here:\n",
    "\n",
    "https://github.com/chris1610/pbpython/blob/master/extras/Pathlib-Cheatsheet.pdf"
   ]
  },
  {
   "cell_type": "markdown",
   "metadata": {},
   "source": [
    "### It \"just works\" on Windows too. Write path manipulations and have that run on anyone's machine!\n",
    "\n",
    "```python\n",
    ">>> path = Path.home()\n",
    ">>> path\n",
    "C:\\Users\\Jano\\\n",
    "\n",
    ">>> docs = path / 'Documents'\n",
    ">>> docs\n",
    "C:\\Users\\Jano\\Documents\n",
    "```"
   ]
  },
  {
   "cell_type": "markdown",
   "metadata": {},
   "source": [
    "### This is great, but I live in the future. Not every file I care about is on my machine. What do I do when I am working on S3? Do I have to download every file?\n",
    "\n",
    "\n",
    "### Of course not!"
   ]
  },
  {
   "cell_type": "code",
   "execution_count": 5,
   "metadata": {},
   "outputs": [
    {
     "output_type": "execute_result",
     "data": {
      "text/plain": "'file.txt'"
     },
     "metadata": {},
     "execution_count": 5
    }
   ],
   "source": [
    "from cloudpathlib import S3Path\n",
    "\n",
    "s3p = S3Path(\"s3://pjb-testing-bucket-for-platform/file.txt\")\n",
    "\n",
    "s3p.name"
   ]
  },
  {
   "cell_type": "code",
   "execution_count": 6,
   "metadata": {},
   "outputs": [
    {
     "output_type": "execute_result",
     "data": {
      "text/plain": "False"
     },
     "metadata": {},
     "execution_count": 6
    }
   ],
   "source": [
    "s3p.exists()"
   ]
  },
  {
   "cell_type": "code",
   "execution_count": 7,
   "metadata": {},
   "outputs": [],
   "source": [
    "s3p.touch()"
   ]
  },
  {
   "cell_type": "code",
   "execution_count": 8,
   "metadata": {},
   "outputs": [
    {
     "output_type": "execute_result",
     "data": {
      "text/plain": "True"
     },
     "metadata": {},
     "execution_count": 8
    }
   ],
   "source": [
    "s3p.exists()"
   ]
  },
  {
   "cell_type": "code",
   "execution_count": 9,
   "metadata": {},
   "outputs": [
    {
     "output_type": "execute_result",
     "data": {
      "text/plain": "os.stat_result(st_mode=None, st_ino=None, st_dev='s3://', st_nlink=None, st_uid=None, st_gid=None, st_size=0, st_atime=None, st_mtime=1598593899.0, st_ctime=None)"
     },
     "metadata": {},
     "execution_count": 9
    }
   ],
   "source": [
    "# size = 0\n",
    "s3p.stat()"
   ]
  },
  {
   "cell_type": "code",
   "execution_count": 10,
   "metadata": {},
   "outputs": [
    {
     "output_type": "execute_result",
     "data": {
      "text/plain": "27"
     },
     "metadata": {},
     "execution_count": 10
    }
   ],
   "source": [
    "s3p.write_text(\"Hello to all of my friends!\")"
   ]
  },
  {
   "cell_type": "code",
   "execution_count": 11,
   "metadata": {},
   "outputs": [
    {
     "output_type": "execute_result",
     "data": {
      "text/plain": "os.stat_result(st_mode=None, st_ino=None, st_dev='s3://', st_nlink=None, st_uid=None, st_gid=None, st_size=27, st_atime=None, st_mtime=1598593904.0, st_ctime=None)"
     },
     "metadata": {},
     "execution_count": 11
    }
   ],
   "source": [
    "s3p.stat()"
   ]
  },
  {
   "cell_type": "code",
   "execution_count": 12,
   "metadata": {},
   "outputs": [],
   "source": [
    "s3p.unlink()"
   ]
  },
  {
   "cell_type": "code",
   "execution_count": 13,
   "metadata": {},
   "outputs": [
    {
     "output_type": "execute_result",
     "data": {
      "text/plain": "False"
     },
     "metadata": {},
     "execution_count": 13
    }
   ],
   "source": [
    "s3p.exists()"
   ]
  },
  {
   "cell_type": "markdown",
   "metadata": {},
   "source": [
    "### That's cool, but I use Azure Blob storage, what can I do?"
   ]
  },
  {
   "cell_type": "code",
   "execution_count": 14,
   "metadata": {},
   "outputs": [
    {
     "output_type": "execute_result",
     "data": {
      "text/plain": "'file.txt'"
     },
     "metadata": {},
     "execution_count": 14
    }
   ],
   "source": [
    "from cloudpathlib import AzureBlobPath\n",
    "\n",
    "azp = AzureBlobPath(\"az://dd-test-container/file.txt\")\n",
    "\n",
    "azp.name"
   ]
  },
  {
   "cell_type": "code",
   "execution_count": 15,
   "metadata": {},
   "outputs": [
    {
     "output_type": "execute_result",
     "data": {
      "text/plain": "False"
     },
     "metadata": {},
     "execution_count": 15
    }
   ],
   "source": [
    "azp.exists()"
   ]
  },
  {
   "cell_type": "code",
   "execution_count": 16,
   "metadata": {},
   "outputs": [
    {
     "output_type": "execute_result",
     "data": {
      "text/plain": "19"
     },
     "metadata": {},
     "execution_count": 16
    }
   ],
   "source": [
    "azp.write_text(\"I'm on Azure, boss.\")"
   ]
  },
  {
   "cell_type": "code",
   "execution_count": 17,
   "metadata": {},
   "outputs": [
    {
     "output_type": "execute_result",
     "data": {
      "text/plain": "True"
     },
     "metadata": {},
     "execution_count": 17
    }
   ],
   "source": [
    "azp.exists()"
   ]
  },
  {
   "cell_type": "code",
   "execution_count": 18,
   "metadata": {},
   "outputs": [],
   "source": [
    "azp.unlink()"
   ]
  },
  {
   "cell_type": "markdown",
   "metadata": {},
   "source": [
    "### Let's say that the Senior Vice President of Tomfoolery comes to me and says \"we've got a mandate to migrate our application to Azure storage from S3!\"\n",
    "\n",
    "### No problem, if I used `cloudpathlib`!"
   ]
  },
  {
   "cell_type": "code",
   "execution_count": 19,
   "metadata": {
    "tags": []
   },
   "outputs": [],
   "source": [
    "from cloudpathlib import CloudPath\n",
    "\n",
    "ROOT = \"s3://pjb-testing-bucket-for-platform/\"\n",
    "\n",
    "p = CloudPath(ROOT)\n",
    "upload = p / \"user_upload.txt\"\n",
    "upload.write_text(\"A user made this file!\")\n",
    "\n",
    "assert upload.exists()\n",
    "upload.unlink()\n",
    "assert not upload.exists()\n",
    "\n",
    "\n"
   ]
  },
  {
   "cell_type": "code",
   "execution_count": 20,
   "metadata": {
    "tags": []
   },
   "outputs": [],
   "source": [
    "from cloudpathlib import CloudPath\n",
    "\n",
    "# this is the ONLY change\n",
    "ROOT = \"az://dd-test-container/\"\n",
    "\n",
    "p = CloudPath(ROOT)\n",
    "upload = p / \"user_upload.txt\"\n",
    "upload.write_text(\"A user made this file!\")\n",
    "\n",
    "assert upload.exists()\n",
    "upload.unlink()\n",
    "assert not upload.exists()\n",
    "\n"
   ]
  }
 ]
}